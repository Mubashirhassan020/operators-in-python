{
 "cells": [
  {
   "cell_type": "code",
   "execution_count": 1,
   "id": "306e454a-9e0f-41ce-98ea-f81a05a783d8",
   "metadata": {},
   "outputs": [
    {
     "name": "stdout",
     "output_type": "stream",
     "text": [
      " x is equal to y\n"
     ]
    }
   ],
   "source": [
    "#comparison operators\n",
    "# (==)\n",
    "a = 10\n",
    "b = 10\n",
    "if a == b:\n",
    "    print(\" x is equal to y\")"
   ]
  },
  {
   "cell_type": "code",
   "execution_count": 2,
   "id": "6899c8e0-0b23-4e98-81f7-94d63ab4885c",
   "metadata": {},
   "outputs": [
    {
     "name": "stdout",
     "output_type": "stream",
     "text": [
      " ali is equal to raza\n"
     ]
    }
   ],
   "source": [
    "ali = 52\n",
    "raza = 52\n",
    "if ali == raza:\n",
    "    print(\" ali is equal to raza\")"
   ]
  },
  {
   "cell_type": "code",
   "execution_count": 3,
   "id": "d05a7e45-96d8-479d-9767-c341b29f2515",
   "metadata": {},
   "outputs": [
    {
     "name": "stdout",
     "output_type": "stream",
     "text": [
      "both values are same\n"
     ]
    }
   ],
   "source": [
    "x = \"ai\"\n",
    "y = \"ai\"\n",
    "if x == y:\n",
    "    print(\"both values are same\")"
   ]
  },
  {
   "cell_type": "code",
   "execution_count": 4,
   "id": "f2ccc6b3-b2d0-49b0-a52e-4f4478deb663",
   "metadata": {},
   "outputs": [
    {
     "name": "stdout",
     "output_type": "stream",
     "text": [
      " boths are fans\n"
     ]
    }
   ],
   "source": [
    "XY = \"FANS\"\n",
    "YY = \"FANS\"\n",
    "if XY == YY:\n",
    "    print(\" boths are fans\")"
   ]
  },
  {
   "cell_type": "code",
   "execution_count": 5,
   "id": "8c794441-6cbb-439d-8e93-cc0fe556158b",
   "metadata": {},
   "outputs": [
    {
     "name": "stdout",
     "output_type": "stream",
     "text": [
      "both names are same\n"
     ]
    }
   ],
   "source": [
    "a = \"ali\"\n",
    "b = \"ali\"\n",
    "if a == b:\n",
    "    print(\"both names are same\")"
   ]
  },
  {
   "cell_type": "code",
   "execution_count": 6,
   "id": "67fd16ef-2db4-461e-b772-0f1492aa0d8d",
   "metadata": {},
   "outputs": [
    {
     "name": "stdout",
     "output_type": "stream",
     "text": [
      "x is not equal to y\n"
     ]
    }
   ],
   "source": [
    "# != operator\n",
    "x = 10\n",
    "y = 5\n",
    "if x != y:\n",
    "    print(\"x is not equal to y\")"
   ]
  },
  {
   "cell_type": "code",
   "execution_count": 7,
   "id": "a123b3d0-8a2a-4f96-aad5-29cbfe4bf262",
   "metadata": {},
   "outputs": [
    {
     "name": "stdout",
     "output_type": "stream",
     "text": [
      "a is not equal to B\n"
     ]
    }
   ],
   "source": [
    "a = 25\n",
    "b = 20\n",
    "if a != b:\n",
    "    print(\"a is not equal to B\")"
   ]
  },
  {
   "cell_type": "code",
   "execution_count": 8,
   "id": "cfbc8ee3-9518-40fe-821f-92fca35eb5e6",
   "metadata": {},
   "outputs": [
    {
     "name": "stdout",
     "output_type": "stream",
     "text": [
      "ali is not equal to Raza\n"
     ]
    }
   ],
   "source": [
    "ali = \"AI\"\n",
    "Raza = \"CADMEY\"\n",
    "if ali != Raza:\n",
    "    print(\"ali is not equal to Raza\")"
   ]
  },
  {
   "cell_type": "code",
   "execution_count": 9,
   "id": "e0bdb02c-2503-4b09-a56b-41726c0d93f6",
   "metadata": {},
   "outputs": [
    {
     "name": "stdout",
     "output_type": "stream",
     "text": [
      "The numbers are not equal\n"
     ]
    }
   ],
   "source": [
    "num1 = 10\n",
    "num2 = 5\n",
    "if num1 != num2:\n",
    "    print(\"The numbers are not equal\")"
   ]
  },
  {
   "cell_type": "code",
   "execution_count": 10,
   "id": "88d51bc4-3bcc-4015-9dac-2d3ed115c115",
   "metadata": {},
   "outputs": [
    {
     "name": "stdout",
     "output_type": "stream",
     "text": [
      "The names are different\n"
     ]
    }
   ],
   "source": [
    "name1 = \"mubashir\"\n",
    "name2 = \"hassan\"\n",
    "if name1 != name2:\n",
    "    print(\"The names are different\")"
   ]
  },
  {
   "cell_type": "code",
   "execution_count": 11,
   "id": "fac4768a-877b-40b7-a902-3798c3c85a43",
   "metadata": {},
   "outputs": [
    {
     "name": "stdout",
     "output_type": "stream",
     "text": [
      "x is less than y\n"
     ]
    }
   ],
   "source": [
    "# less than < operator\n",
    "x = 5\n",
    "y = 10\n",
    "if x < y:\n",
    "    print(\"x is less than y\")"
   ]
  },
  {
   "cell_type": "code",
   "execution_count": 12,
   "id": "7bd404a4-b32f-4c36-8064-8e09340bbe5b",
   "metadata": {},
   "outputs": [
    {
     "name": "stdout",
     "output_type": "stream",
     "text": [
      " a chota hai y sy\n"
     ]
    }
   ],
   "source": [
    "a = 6\n",
    "y = 7\n",
    "if a < y:\n",
    "    print(\" a chota hai y sy\")"
   ]
  },
  {
   "cell_type": "code",
   "execution_count": 13,
   "id": "584eb018-1163-4ff4-8ecd-39c4197243b6",
   "metadata": {},
   "outputs": [
    {
     "name": "stdout",
     "output_type": "stream",
     "text": [
      " mera code meri marzi\n"
     ]
    }
   ],
   "source": [
    "ali = \"hassan\"\n",
    "Raza = \"hussain\"\n",
    "if ali < Raza:\n",
    "    print( \" mera code meri marzi\")"
   ]
  },
  {
   "cell_type": "code",
   "execution_count": 14,
   "id": "36b4e358-23df-43b2-892e-d91b0b46c418",
   "metadata": {},
   "outputs": [
    {
     "name": "stdout",
     "output_type": "stream",
     "text": [
      "a is less than b\n"
     ]
    }
   ],
   "source": [
    "a = 15\n",
    "b = 20\n",
    "if a < b:\n",
    "    print(\"a is less than b\")"
   ]
  },
  {
   "cell_type": "code",
   "execution_count": 15,
   "id": "d50f289a-3ed6-474f-9c37-de370235a252",
   "metadata": {},
   "outputs": [
    {
     "name": "stdout",
     "output_type": "stream",
     "text": [
      " ab nikka hai bb sy\n"
     ]
    }
   ],
   "source": [
    "ab = 25\n",
    "bb = 25.5\n",
    "if ab < bb:\n",
    "    print(\" ab nikka hai bb sy\")"
   ]
  },
  {
   "cell_type": "code",
   "execution_count": 17,
   "id": "d6bc604d-e42f-4b5d-9c22-6c58f13659a8",
   "metadata": {},
   "outputs": [
    {
     "name": "stdout",
     "output_type": "stream",
     "text": [
      "x is greater than y\n"
     ]
    }
   ],
   "source": [
    "# greater than > operator\n",
    "x = 10\n",
    "y = 5\n",
    "if x > y:\n",
    "    print(\"x is greater than y\")"
   ]
  },
  {
   "cell_type": "code",
   "execution_count": 18,
   "id": "e2d77e39-fbbe-4328-abca-cd024130df97",
   "metadata": {},
   "outputs": [
    {
     "name": "stdout",
     "output_type": "stream",
     "text": [
      "a is greater than b\n"
     ]
    }
   ],
   "source": [
    "a = 20\n",
    "b = 15\n",
    "if a > b:\n",
    "    print(\"a is greater than b\")"
   ]
  },
  {
   "cell_type": "code",
   "execution_count": 19,
   "id": "222ecf59-5de7-4e19-9dd4-893e75b9bc32",
   "metadata": {},
   "outputs": [
    {
     "name": "stdout",
     "output_type": "stream",
     "text": [
      "ali bra hogya\n"
     ]
    }
   ],
   "source": [
    "ali = 25\n",
    "if ali > 20:\n",
    "    print(\"ali bra hogya\")"
   ]
  },
  {
   "cell_type": "code",
   "execution_count": 20,
   "id": "bcc37ab9-1576-4724-b1ac-e9c7870721c7",
   "metadata": {},
   "outputs": [
    {
     "name": "stdout",
     "output_type": "stream",
     "text": [
      " mubashir waqae mehnti hai\n"
     ]
    }
   ],
   "source": [
    "mubashir = \"bht mehnti hai\"\n",
    "if mubashir > \"agr mehnat kry to\":\n",
    "    print(\" mubashir waqae mehnti hai\")"
   ]
  },
  {
   "cell_type": "code",
   "execution_count": 21,
   "id": "42d89cc5-7b6d-4a67-921f-16fb3441f311",
   "metadata": {},
   "outputs": [
    {
     "name": "stdout",
     "output_type": "stream",
     "text": [
      "aa is greater than bb\n"
     ]
    }
   ],
   "source": [
    "aa = 3.14159\n",
    "bb = 2.71828\n",
    "if aa > bb:\n",
    "    print(\"aa is greater than bb\")"
   ]
  },
  {
   "cell_type": "code",
   "execution_count": 22,
   "id": "e022b488-85cf-4491-988d-5ab9a878b896",
   "metadata": {},
   "outputs": [
    {
     "name": "stdout",
     "output_type": "stream",
     "text": [
      "x is less than or equal to y\n"
     ]
    }
   ],
   "source": [
    "#<= less than equal to \n",
    "x = 10\n",
    "y = 10\n",
    "if x <= y:\n",
    "    print(\"x is less than or equal to y\")"
   ]
  },
  {
   "cell_type": "code",
   "execution_count": 23,
   "id": "29171895-eea2-43cb-8c9a-3452a6bb4b60",
   "metadata": {},
   "outputs": [
    {
     "name": "stdout",
     "output_type": "stream",
     "text": [
      "a is less than or equal to b\n"
     ]
    }
   ],
   "source": [
    "a = 5\n",
    "b = 5\n",
    "if a <= b:\n",
    "    print(\"a is less than or equal to b\")"
   ]
  },
  {
   "cell_type": "code",
   "execution_count": 24,
   "id": "3759a485-ce74-438c-958b-ff7d8923b195",
   "metadata": {},
   "outputs": [
    {
     "name": "stdout",
     "output_type": "stream",
     "text": [
      "x is less than or equal to y\n"
     ]
    }
   ],
   "source": [
    "x = 10\n",
    "y = 20\n",
    "if x <= y:\n",
    "    print(\"x is less than or equal to y\")"
   ]
  },
  {
   "cell_type": "code",
   "execution_count": 25,
   "id": "6c0cd871-1a7a-44d3-913f-69a8a001198e",
   "metadata": {},
   "outputs": [
    {
     "name": "stdout",
     "output_type": "stream",
     "text": [
      "chotiiii bachiii ho kya\n"
     ]
    }
   ],
   "source": [
    "age = 18\n",
    "if age <= 25:\n",
    "    print(\"chotiiii bachiii ho kya\")"
   ]
  },
  {
   "cell_type": "code",
   "execution_count": 26,
   "id": "49a1f8c4-0931-4ce0-93b9-a4abbbdc2cf7",
   "metadata": {},
   "outputs": [
    {
     "name": "stdout",
     "output_type": "stream",
     "text": [
      "okay\n"
     ]
    }
   ],
   "source": [
    "score = 85\n",
    "if score <= 100:\n",
    "    print(\"okay\")"
   ]
  },
  {
   "cell_type": "code",
   "execution_count": 27,
   "id": "038b6a51-75cc-40af-bfe8-ad4acc30e5b8",
   "metadata": {},
   "outputs": [
    {
     "name": "stdout",
     "output_type": "stream",
     "text": [
      "x is greater than or equal to y\n"
     ]
    }
   ],
   "source": [
    "# >= operator\n",
    "x = 10\n",
    "y = 5\n",
    "if x >= y:\n",
    "    print(\"x is greater than or equal to y\")"
   ]
  },
  {
   "cell_type": "code",
   "execution_count": 28,
   "id": "d6bba734-cb4b-46e9-a30f-a6c744fcbc6c",
   "metadata": {},
   "outputs": [
    {
     "name": "stdout",
     "output_type": "stream",
     "text": [
      "x is greater than or equal to y\n"
     ]
    }
   ],
   "source": [
    "x = 20\n",
    "y = 10\n",
    "if x >= y:\n",
    "    print(\"x is greater than or equal to y\")"
   ]
  },
  {
   "cell_type": "code",
   "execution_count": 29,
   "id": "626df856-cf97-446b-ad87-fdc88fe6543c",
   "metadata": {},
   "outputs": [
    {
     "name": "stdout",
     "output_type": "stream",
     "text": [
      "a is greater than or equal to b\n"
     ]
    }
   ],
   "source": [
    "a = 7\n",
    "b = 7\n",
    "if a >= b:\n",
    "    print(\"a is greater than or equal to b\")"
   ]
  },
  {
   "cell_type": "code",
   "execution_count": 30,
   "id": "c7a31947-1483-4b0e-88d6-46bf2ede4dfb",
   "metadata": {},
   "outputs": [
    {
     "name": "stdout",
     "output_type": "stream",
     "text": [
      "ye b thk hai\n"
     ]
    }
   ],
   "source": [
    "score = 90\n",
    "if score >= 75:\n",
    "    print(\"ye b thk hai\")"
   ]
  },
  {
   "cell_type": "code",
   "execution_count": 31,
   "id": "a30de517-450f-4d38-b778-e8735317f64c",
   "metadata": {},
   "outputs": [
    {
     "name": "stdout",
     "output_type": "stream",
     "text": [
      "age thk hai\n"
     ]
    }
   ],
   "source": [
    "age = 30\n",
    "if age >= 18:\n",
    "    print(\"age thk hai\")"
   ]
  },
  {
   "cell_type": "code",
   "execution_count": null,
   "id": "3f045efe-ed79-432b-9c54-946ce1e0cf89",
   "metadata": {},
   "outputs": [],
   "source": []
  },
  {
   "cell_type": "code",
   "execution_count": 32,
   "id": "3619f712-427a-4e07-bff5-45e24a6965d0",
   "metadata": {},
   "outputs": [
    {
     "name": "stdout",
     "output_type": "stream",
     "text": [
      "Both conditions are true\n"
     ]
    }
   ],
   "source": [
    "#logical operators\n",
    "\n",
    "# AND Operator\n",
    "x = 10\n",
    "y = 5\n",
    "if x > 5 and y < 10:\n",
    "    print(\"Both conditions are true\")"
   ]
  },
  {
   "cell_type": "code",
   "execution_count": 33,
   "id": "a752a79d-a8da-4348-8dc6-700c8a2d5e10",
   "metadata": {},
   "outputs": [
    {
     "name": "stdout",
     "output_type": "stream",
     "text": [
      "You are a young adult\n"
     ]
    }
   ],
   "source": [
    "age = 25\n",
    "if age > 18 and age < 30:\n",
    "    print(\"You are a young adult\")"
   ]
  },
  {
   "cell_type": "code",
   "execution_count": 39,
   "id": "59ccab17-02c6-4f46-9e74-457087585800",
   "metadata": {},
   "outputs": [
    {
     "name": "stdout",
     "output_type": "stream",
     "text": [
      "The point is fine\n"
     ]
    }
   ],
   "source": [
    "x = 5\n",
    "y = -3\n",
    "if x > 0 and y < 0:\n",
    "    print(\"The point is fine\")"
   ]
  },
  {
   "cell_type": "code",
   "execution_count": 41,
   "id": "6a1e3d0a-030a-4f36-bfd6-666d8ea9aece",
   "metadata": {},
   "outputs": [
    {
     "name": "stdout",
     "output_type": "stream",
     "text": [
      "It's an uppercase letter\n"
     ]
    }
   ],
   "source": [
    "char = 'A'\n",
    "if char >= 'A' and char <= 'Z':\n",
    "    print(\"It's an uppercase letter\")"
   ]
  },
  {
   "cell_type": "code",
   "execution_count": 42,
   "id": "f4f1607e-4153-40f6-a52e-24172b03a84f",
   "metadata": {},
   "outputs": [
    {
     "name": "stdout",
     "output_type": "stream",
     "text": [
      "Login successful\n"
     ]
    }
   ],
   "source": [
    "username = \"user123\"\n",
    "password = \"password123\"\n",
    "if username == \"user123\" and password == \"password123\":\n",
    "    print(\"Login successful\")"
   ]
  },
  {
   "cell_type": "code",
   "execution_count": 43,
   "id": "1fca33b7-afab-4214-bf63-adda931d5377",
   "metadata": {},
   "outputs": [
    {
     "name": "stdout",
     "output_type": "stream",
     "text": [
      "At least one condition is true\n"
     ]
    }
   ],
   "source": [
    "#OR OPERATOR \n",
    "x = 5\n",
    "y = 10\n",
    "if x > 5 or y > 5:\n",
    "    print(\"At least one condition is true\")"
   ]
  },
  {
   "cell_type": "code",
   "execution_count": 44,
   "id": "d73baa42-75ad-49cf-9e95-759e2e610be5",
   "metadata": {},
   "outputs": [
    {
     "name": "stdout",
     "output_type": "stream",
     "text": [
      "At least one number is positive\n"
     ]
    }
   ],
   "source": [
    "num1 = -5\n",
    "num2 = 10\n",
    "if num1 > 0 or num2 > 0:\n",
    "    print(\"At least one number is positive\")"
   ]
  },
  {
   "cell_type": "code",
   "execution_count": 45,
   "id": "a6ddcb1f-1bf0-4722-bc35-1165f8eb5bfc",
   "metadata": {},
   "outputs": [
    {
     "name": "stdout",
     "output_type": "stream",
     "text": [
      "The number is divisible by 3 or 5\n"
     ]
    }
   ],
   "source": [
    "number = 15\n",
    "if number % 3 == 0 or number % 5 == 0:\n",
    "    print(\"The number is divisible by 3 or 5\")"
   ]
  },
  {
   "cell_type": "code",
   "execution_count": 46,
   "id": "c88433aa-5b64-4d07-952c-0478318a3f75",
   "metadata": {},
   "outputs": [
    {
     "name": "stdout",
     "output_type": "stream",
     "text": [
      "at least one is true\n"
     ]
    }
   ],
   "source": [
    "a = 10\n",
    "b = 15\n",
    "if a > 0 or b > 0:\n",
    "    print(\"at least one is true\")"
   ]
  },
  {
   "cell_type": "code",
   "execution_count": 48,
   "id": "d1a3617c-2cba-49bb-aa0f-4e6a0d9efc31",
   "metadata": {},
   "outputs": [
    {
     "name": "stdout",
     "output_type": "stream",
     "text": [
      "least one number is positive\n"
     ]
    }
   ],
   "source": [
    "num1 = 50\n",
    "num2 = 10\n",
    "if num1 > 0 or num2 > 0:\n",
    "    print(\"least one number is positive\")"
   ]
  },
  {
   "cell_type": "code",
   "execution_count": 49,
   "id": "2b3475c6-1987-4349-8706-a950dcc3acbf",
   "metadata": {},
   "outputs": [
    {
     "name": "stdout",
     "output_type": "stream",
     "text": [
      "x is not less than 5\n"
     ]
    }
   ],
   "source": [
    "#NOT Operator\n",
    "x = 10\n",
    "if not (x < 5):\n",
    "    print(\"x is not less than 5\")"
   ]
  },
  {
   "cell_type": "code",
   "execution_count": 50,
   "id": "550e51df-16a9-44e6-a46a-e519345db16c",
   "metadata": {},
   "outputs": [
    {
     "name": "stdout",
     "output_type": "stream",
     "text": [
      "The number is not zero\n"
     ]
    }
   ],
   "source": [
    "number = 5\n",
    "if not (number == 0):\n",
    "    print(\"The number is not zero\")"
   ]
  },
  {
   "cell_type": "code",
   "execution_count": 51,
   "id": "0aadfd2d-208c-45f9-a6d1-1c002a900080",
   "metadata": {},
   "outputs": [
    {
     "name": "stdout",
     "output_type": "stream",
     "text": [
      "You are an adult\n"
     ]
    }
   ],
   "source": [
    "age = 18\n",
    "if not (age < 18):\n",
    "    print(\"You are an adult\")"
   ]
  },
  {
   "cell_type": "code",
   "execution_count": 53,
   "id": "6ca13515-0362-4669-9812-0395ec656734",
   "metadata": {},
   "outputs": [],
   "source": [
    "is_raining = True\n",
    "if not is_raining:\n",
    "    print(\"It's not raining\")"
   ]
  },
  {
   "cell_type": "code",
   "execution_count": 54,
   "id": "4491b895-7ff0-473f-a3a7-1a1e4c24efce",
   "metadata": {},
   "outputs": [
    {
     "name": "stdout",
     "output_type": "stream",
     "text": [
      " a is 10\n"
     ]
    }
   ],
   "source": [
    "a = 10\n",
    "if not (a == 0):\n",
    "    print(\" a is 10\")"
   ]
  },
  {
   "cell_type": "code",
   "execution_count": null,
   "id": "a1461641-6e64-4547-ab1d-21d2a5e0324f",
   "metadata": {},
   "outputs": [],
   "source": []
  }
 ],
 "metadata": {
  "kernelspec": {
   "display_name": "Python 3 (ipykernel)",
   "language": "python",
   "name": "python3"
  },
  "language_info": {
   "codemirror_mode": {
    "name": "ipython",
    "version": 3
   },
   "file_extension": ".py",
   "mimetype": "text/x-python",
   "name": "python",
   "nbconvert_exporter": "python",
   "pygments_lexer": "ipython3",
   "version": "3.13.0"
  }
 },
 "nbformat": 4,
 "nbformat_minor": 5
}
