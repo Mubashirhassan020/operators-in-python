{
 "cells": [
  {
   "cell_type": "code",
   "execution_count": 1,
   "id": "64f6e7d2-a9f6-422b-ba27-e3786e3bf988",
   "metadata": {},
   "outputs": [
    {
     "name": "stdout",
     "output_type": "stream",
     "text": [
      "15\n"
     ]
    }
   ],
   "source": [
    "x = 10\n",
    "y = 5\n",
    "sum = x + y\n",
    "print(sum)"
   ]
  },
  {
   "cell_type": "code",
   "execution_count": 2,
   "id": "dd4b290f-bc60-4129-a78f-5b1a7793dbb6",
   "metadata": {},
   "outputs": [
    {
     "name": "stdout",
     "output_type": "stream",
     "text": [
      "21\n"
     ]
    }
   ],
   "source": [
    "x = 16\n",
    "y = 5\n",
    "sum = x + y\n",
    "print(sum)"
   ]
  },
  {
   "cell_type": "code",
   "execution_count": 3,
   "id": "4a2e1480-3a77-41da-81db-9ae89609437d",
   "metadata": {},
   "outputs": [
    {
     "name": "stdout",
     "output_type": "stream",
     "text": [
      "30\n"
     ]
    }
   ],
   "source": [
    "ali = 10\n",
    "usman = 20\n",
    "sum = ali + usman\n",
    "print (sum)"
   ]
  },
  {
   "cell_type": "code",
   "execution_count": 7,
   "id": "bdd1310c-276c-48cf-a929-a2bb93a6a3fd",
   "metadata": {},
   "outputs": [
    {
     "name": "stdout",
     "output_type": "stream",
     "text": [
      "32\n"
     ]
    }
   ],
   "source": [
    "has = 2\n",
    "ah = 30\n",
    "sum = has + ah\n",
    "print (sum)"
   ]
  },
  {
   "cell_type": "code",
   "execution_count": 8,
   "id": "85852f49-26f8-4d08-8f3c-b4964006de14",
   "metadata": {},
   "outputs": [
    {
     "name": "stdout",
     "output_type": "stream",
     "text": [
      "5\n"
     ]
    }
   ],
   "source": [
    "x = 10\n",
    "y = 5\n",
    "difference = x - y\n",
    "print(difference)  "
   ]
  },
  {
   "cell_type": "code",
   "execution_count": 9,
   "id": "f8172849-c64c-4340-8b1e-e2a50ab00ec9",
   "metadata": {},
   "outputs": [
    {
     "name": "stdout",
     "output_type": "stream",
     "text": [
      "-40\n"
     ]
    }
   ],
   "source": [
    "x = 10\n",
    "y = 50\n",
    "difference = x - y\n",
    "print(difference)  "
   ]
  },
  {
   "cell_type": "code",
   "execution_count": 10,
   "id": "b3134b3f-8555-4422-836a-a058a6533e45",
   "metadata": {},
   "outputs": [
    {
     "name": "stdout",
     "output_type": "stream",
     "text": [
      "4.899999999999999\n"
     ]
    }
   ],
   "source": [
    "xy = 25.5\n",
    "yy = 20.6\n",
    "difference = xy - yy\n",
    "print (difference)"
   ]
  },
  {
   "cell_type": "code",
   "execution_count": 11,
   "id": "135f07a0-d089-4a54-9423-8a37dd92a678",
   "metadata": {},
   "outputs": [
    {
     "name": "stdout",
     "output_type": "stream",
     "text": [
      "8\n"
     ]
    }
   ],
   "source": [
    "num = 15\n",
    "subtraction = num - 7\n",
    "print(subtraction) "
   ]
  },
  {
   "cell_type": "code",
   "execution_count": 12,
   "id": "191c65cc-e2ae-4e84-bd55-0c28065daf87",
   "metadata": {},
   "outputs": [
    {
     "name": "stdin",
     "output_type": "stream",
     "text": [
      "Enter the first number:  10\n",
      "Enter the second number:  20\n"
     ]
    },
    {
     "name": "stdout",
     "output_type": "stream",
     "text": [
      "The difference is: -10\n"
     ]
    }
   ],
   "source": [
    "num1 = int(input(\"Enter the first number: \"))\n",
    "num2 = int(input(\"Enter the second number: \"))\n",
    "difference = num1 - num2\n",
    "print(\"The difference is:\", difference)"
   ]
  },
  {
   "cell_type": "code",
   "execution_count": 13,
   "id": "eeda826a-a373-478b-b2df-dedac4576a87",
   "metadata": {},
   "outputs": [
    {
     "name": "stdout",
     "output_type": "stream",
     "text": [
      "150\n"
     ]
    }
   ],
   "source": [
    "result = (100 - 25) * 2\n",
    "print(result)  "
   ]
  },
  {
   "cell_type": "code",
   "execution_count": 14,
   "id": "b64b7721-8f15-484d-a593-49c3dee0bf11",
   "metadata": {},
   "outputs": [
    {
     "name": "stdout",
     "output_type": "stream",
     "text": [
      "21\n"
     ]
    }
   ],
   "source": [
    "a = 7\n",
    "b = 3\n",
    "result = a * b\n",
    "print(result) "
   ]
  },
  {
   "cell_type": "code",
   "execution_count": 15,
   "id": "3729a897-d193-47c4-ae1e-690a4d284a2e",
   "metadata": {},
   "outputs": [
    {
     "name": "stdout",
     "output_type": "stream",
     "text": [
      "50\n"
     ]
    }
   ],
   "source": [
    "num = 5\n",
    "product = num * 10\n",
    "print(product)  "
   ]
  },
  {
   "cell_type": "code",
   "execution_count": 16,
   "id": "dda035bf-fd97-47ad-bf54-742464e2c974",
   "metadata": {},
   "outputs": [
    {
     "name": "stdin",
     "output_type": "stream",
     "text": [
      "Enter the first number:  10\n",
      "Enter the second number:  20\n"
     ]
    },
    {
     "name": "stdout",
     "output_type": "stream",
     "text": [
      "The product is: 200\n"
     ]
    }
   ],
   "source": [
    "num1 = int(input(\"Enter the first number: \"))\n",
    "num2 = int(input(\"Enter the second number: \"))\n",
    "product = num1 * num2\n",
    "print(\"The product is:\", product)"
   ]
  },
  {
   "cell_type": "code",
   "execution_count": 17,
   "id": "2d719246-b330-4c08-8f2b-efeb1de554f4",
   "metadata": {},
   "outputs": [
    {
     "name": "stdout",
     "output_type": "stream",
     "text": [
      "The area of the circle is: 78.5\n"
     ]
    }
   ],
   "source": [
    "area = 3.14 * 5 * 5\n",
    "print(\"The area of the circle is:\", area)"
   ]
  },
  {
   "cell_type": "code",
   "execution_count": 18,
   "id": "c496bb23-3c5e-431d-a243-fc3e340677bb",
   "metadata": {},
   "outputs": [
    {
     "name": "stdout",
     "output_type": "stream",
     "text": [
      "50\n"
     ]
    }
   ],
   "source": [
    "x = 10\n",
    "y = 5\n",
    "product = x * y\n",
    "print(product)  "
   ]
  },
  {
   "cell_type": "code",
   "execution_count": 19,
   "id": "91e6b5fb-8740-41b0-8202-d1240625ec87",
   "metadata": {},
   "outputs": [
    {
     "name": "stdout",
     "output_type": "stream",
     "text": [
      "2.0\n"
     ]
    }
   ],
   "source": [
    "x = 10\n",
    "y = 5\n",
    "quotient = x / y\n",
    "print(quotient)  "
   ]
  },
  {
   "cell_type": "code",
   "execution_count": 20,
   "id": "9bcccd80-d28f-46f8-b6dd-55326fc2e01d",
   "metadata": {},
   "outputs": [
    {
     "name": "stdout",
     "output_type": "stream",
     "text": [
      "4.0\n"
     ]
    }
   ],
   "source": [
    "num = 100\n",
    "division = num / 25\n",
    "print(division) "
   ]
  },
  {
   "cell_type": "code",
   "execution_count": 21,
   "id": "7fc10cd4-68fe-4e9e-8013-5700bb161597",
   "metadata": {},
   "outputs": [
    {
     "name": "stdin",
     "output_type": "stream",
     "text": [
      "Enter the first number:  20\n",
      "Enter the second number:  2\n"
     ]
    },
    {
     "name": "stdout",
     "output_type": "stream",
     "text": [
      "The quotient is: 10.0\n"
     ]
    }
   ],
   "source": [
    "num1 = float(input(\"Enter the first number: \"))\n",
    "num2 = float(input(\"Enter the second number: \"))\n",
    "quotient = num1 / num2\n",
    "print(\"The quotient is:\", quotient)"
   ]
  },
  {
   "cell_type": "code",
   "execution_count": 22,
   "id": "0b17167d-9504-49bd-b4c0-b4a6fdf8bed8",
   "metadata": {},
   "outputs": [
    {
     "name": "stdout",
     "output_type": "stream",
     "text": [
      "The average is: 20.0\n"
     ]
    }
   ],
   "source": [
    "average = (10 + 20 + 30) / 3\n",
    "print(\"The average is:\", average)"
   ]
  },
  {
   "cell_type": "code",
   "execution_count": 24,
   "id": "964cdde1-34f2-422c-907f-52b7af1c9d62",
   "metadata": {},
   "outputs": [
    {
     "name": "stdout",
     "output_type": "stream",
     "text": [
      "500.0\n"
     ]
    }
   ],
   "source": [
    "a = 2000\n",
    "b = 4\n",
    "result = a / b\n",
    "print(result)  "
   ]
  },
  {
   "cell_type": "code",
   "execution_count": 25,
   "id": "b6f6b88b-8c13-4c2d-b126-82ff060b3c71",
   "metadata": {},
   "outputs": [
    {
     "name": "stdout",
     "output_type": "stream",
     "text": [
      "1\n"
     ]
    }
   ],
   "source": [
    "x = 10\n",
    "y = 3\n",
    "remainder = x % y\n",
    "print(remainder) "
   ]
  },
  {
   "cell_type": "code",
   "execution_count": 26,
   "id": "dfc091ec-7b06-440a-9749-de458fd3406d",
   "metadata": {},
   "outputs": [
    {
     "name": "stdout",
     "output_type": "stream",
     "text": [
      "1\n"
     ]
    }
   ],
   "source": [
    "x = 52\n",
    "y = 3\n",
    "remainder = x % y\n",
    "print(remainder) "
   ]
  },
  {
   "cell_type": "code",
   "execution_count": 27,
   "id": "61c53acc-a619-4f21-8d8d-7b93481e7b33",
   "metadata": {},
   "outputs": [
    {
     "name": "stdout",
     "output_type": "stream",
     "text": [
      "The last digit is: 5\n"
     ]
    }
   ],
   "source": [
    "num = 12345\n",
    "last_digit = num % 10\n",
    "print(\"The last digit is:\", last_digit)"
   ]
  },
  {
   "cell_type": "code",
   "execution_count": 28,
   "id": "e34d3b2f-8549-40ae-8204-e2c519f6b50e",
   "metadata": {},
   "outputs": [
    {
     "name": "stdout",
     "output_type": "stream",
     "text": [
      "100 is divisible by 4\n"
     ]
    }
   ],
   "source": [
    "if 100 % 4 == 0:\n",
    "    print(\"100 is divisible by 4\")"
   ]
  },
  {
   "cell_type": "code",
   "execution_count": 29,
   "id": "905fb003-cb35-4c24-8241-ca52e0cb474a",
   "metadata": {},
   "outputs": [
    {
     "name": "stdout",
     "output_type": "stream",
     "text": [
      "Minutes: 2\n",
      "Seconds: 30\n"
     ]
    }
   ],
   "source": [
    "total_seconds = 150\n",
    "minutes = total_seconds // 60\n",
    "seconds = total_seconds % 60\n",
    "print(\"Minutes:\", minutes)\n",
    "print(\"Seconds:\", seconds)"
   ]
  },
  {
   "cell_type": "code",
   "execution_count": null,
   "id": "3452229c-d2c3-45e1-94df-71a3eddef110",
   "metadata": {},
   "outputs": [],
   "source": [
    "# Assignment Operators:\n",
    "\n"
   ]
  },
  {
   "cell_type": "code",
   "execution_count": 30,
   "id": "cbcabeac-47fe-4a70-872a-0351fec9ffeb",
   "metadata": {},
   "outputs": [],
   "source": [
    "x = 10"
   ]
  },
  {
   "cell_type": "code",
   "execution_count": 31,
   "id": "62f5e5a3-6d2f-49c9-a012-99973c8124fe",
   "metadata": {},
   "outputs": [],
   "source": [
    "y = 5 + 3"
   ]
  },
  {
   "cell_type": "code",
   "execution_count": 32,
   "id": "f70b5276-3594-4c87-8c38-f9a88cca482c",
   "metadata": {},
   "outputs": [],
   "source": [
    "name = \"Alice\""
   ]
  },
  {
   "cell_type": "code",
   "execution_count": 33,
   "id": "23465abf-a946-46d3-8ad3-c8a9c061a734",
   "metadata": {},
   "outputs": [],
   "source": [
    "is_true = True"
   ]
  },
  {
   "cell_type": "code",
   "execution_count": 34,
   "id": "a27af7ad-a0e8-4f14-be10-05ea11972d20",
   "metadata": {},
   "outputs": [],
   "source": [
    "def square(x):\n",
    "    return x * x\n",
    "\n",
    "result = square(5)"
   ]
  },
  {
   "cell_type": "code",
   "execution_count": 35,
   "id": "3f262af4-7b54-40a3-aa5d-17a5679efbc5",
   "metadata": {},
   "outputs": [
    {
     "name": "stdout",
     "output_type": "stream",
     "text": [
      "1\n"
     ]
    }
   ],
   "source": [
    "counter = 0\n",
    "counter += 1  # Equivalent to counter = counter + 1\n",
    "print(counter) "
   ]
  },
  {
   "cell_type": "code",
   "execution_count": 36,
   "id": "267055d6-0451-465b-a738-de44e8b1727c",
   "metadata": {},
   "outputs": [
    {
     "name": "stdout",
     "output_type": "stream",
     "text": [
      "8\n"
     ]
    }
   ],
   "source": [
    "a = 5\n",
    "b = 3\n",
    "a += b  \n",
    "print(a) "
   ]
  },
  {
   "cell_type": "code",
   "execution_count": 37,
   "id": "fa5758d0-3e8b-4e8c-8170-8ed9a221d4d2",
   "metadata": {},
   "outputs": [
    {
     "name": "stdout",
     "output_type": "stream",
     "text": [
      "15\n"
     ]
    }
   ],
   "source": [
    "total = 0\n",
    "for number in [1, 2, 3, 4, 5]:\n",
    "    total += number\n",
    "print(total)  "
   ]
  },
  {
   "cell_type": "code",
   "execution_count": 38,
   "id": "95dc5b5f-5b31-4ffe-ab55-9bb5a80b40ba",
   "metadata": {},
   "outputs": [
    {
     "name": "stdout",
     "output_type": "stream",
     "text": [
      "Hello World\n"
     ]
    }
   ],
   "source": [
    "greeting = \"Hello\"\n",
    "name = \"World\"\n",
    "greeting += \" \" + name  # Equivalent to greeting = greeting + \" \" + name\n",
    "print(greeting)  "
   ]
  },
  {
   "cell_type": "code",
   "execution_count": 39,
   "id": "d69795d7-467f-4bca-b391-0d168b04e701",
   "metadata": {},
   "outputs": [
    {
     "name": "stdout",
     "output_type": "stream",
     "text": [
      "6\n"
     ]
    }
   ],
   "source": [
    "numbers = [1, 2, 3]\n",
    "sum_of_numbers = 0\n",
    "for number in numbers:\n",
    "    sum_of_numbers += number\n",
    "print(sum_of_numbers)  "
   ]
  },
  {
   "cell_type": "code",
   "execution_count": 40,
   "id": "56cb1d08-afb8-44f8-8209-1020f8594356",
   "metadata": {},
   "outputs": [
    {
     "name": "stdout",
     "output_type": "stream",
     "text": [
      "5\n"
     ]
    }
   ],
   "source": [
    "x = 10\n",
    "x -= 5  # Equivalent to x = x - 5\n",
    "print(x)  "
   ]
  },
  {
   "cell_type": "code",
   "execution_count": 41,
   "id": "3d60dd3b-08a2-4d68-a641-50104b709010",
   "metadata": {},
   "outputs": [
    {
     "name": "stdout",
     "output_type": "stream",
     "text": [
      "9\n"
     ]
    }
   ],
   "source": [
    "counter = 10\n",
    "counter -= 1  # Equivalent to counter = counter - 1\n",
    "print(counter)  "
   ]
  },
  {
   "cell_type": "code",
   "execution_count": 42,
   "id": "502c3f46-88e5-4a4b-8bb6-e914ceda2f0c",
   "metadata": {},
   "outputs": [
    {
     "name": "stdout",
     "output_type": "stream",
     "text": [
      "8\n"
     ]
    }
   ],
   "source": [
    "a = 15\n",
    "b = 7\n",
    "a -= b  # Equivalent to a = a - b\n",
    "print(a)  "
   ]
  },
  {
   "cell_type": "code",
   "execution_count": 43,
   "id": "5f964501-287d-4a27-8faf-9ed00702f3eb",
   "metadata": {},
   "outputs": [
    {
     "name": "stdout",
     "output_type": "stream",
     "text": [
      "10\n",
      "9\n",
      "8\n",
      "7\n",
      "6\n",
      "5\n",
      "4\n",
      "3\n",
      "2\n",
      "1\n"
     ]
    }
   ],
   "source": [
    "countdown = 10\n",
    "while countdown > 0:\n",
    "    print(countdown)\n",
    "    countdown -= 1"
   ]
  },
  {
   "cell_type": "code",
   "execution_count": 44,
   "id": "21d5ad80-805b-4fb2-95cc-0fd4bc6b6e5a",
   "metadata": {},
   "outputs": [
    {
     "name": "stdout",
     "output_type": "stream",
     "text": [
      "[5, 15, 25, 35]\n"
     ]
    }
   ],
   "source": [
    "numbers = [10, 20, 30, 40]\n",
    "for i in range(len(numbers)):\n",
    "    numbers[i] -= 5\n",
    "print(numbers)  "
   ]
  },
  {
   "cell_type": "code",
   "execution_count": 45,
   "id": "464644cc-9efa-4e3f-a05a-6e09847385bf",
   "metadata": {},
   "outputs": [
    {
     "name": "stdout",
     "output_type": "stream",
     "text": [
      "5.0\n"
     ]
    }
   ],
   "source": [
    "x = 10\n",
    "x /= 2  # Equivalent to x = x / 2\n",
    "print(x)  "
   ]
  },
  {
   "cell_type": "code",
   "execution_count": 46,
   "id": "5e58209d-1016-473f-bd4a-58e6172719b0",
   "metadata": {},
   "outputs": [
    {
     "name": "stdout",
     "output_type": "stream",
     "text": [
      "50.0\n"
     ]
    }
   ],
   "source": [
    "price = 100\n",
    "discount = 20\n",
    "price /= 2  # Equivalent to price = price / 2\n",
    "print(price)  "
   ]
  },
  {
   "cell_type": "code",
   "execution_count": 47,
   "id": "b6ac1b10-52aa-449f-b753-15fc4067804e",
   "metadata": {},
   "outputs": [
    {
     "name": "stdout",
     "output_type": "stream",
     "text": [
      "60.0\n"
     ]
    }
   ],
   "source": [
    "total_marks = 300\n",
    "num_subjects = 5\n",
    "average_marks = total_marks / num_subjects\n",
    "print(average_marks)  "
   ]
  },
  {
   "cell_type": "code",
   "execution_count": 48,
   "id": "c5cc048e-54ab-4f80-b785-25be11c521eb",
   "metadata": {},
   "outputs": [
    {
     "name": "stdout",
     "output_type": "stream",
     "text": [
      "[5.0, 10.0, 15.0, 20.0, 25.0]\n"
     ]
    }
   ],
   "source": [
    "numbers = [10, 20, 30, 40, 50]\n",
    "for i in range(len(numbers)):\n",
    "    numbers[i] /= 2\n",
    "print(numbers)  # Output: [5.0, 10.0, 15.0, 20.0, 25.0]"
   ]
  },
  {
   "cell_type": "code",
   "execution_count": 49,
   "id": "d3a08713-11df-4672-b8fa-c611f6dc95b1",
   "metadata": {},
   "outputs": [
    {
     "name": "stdout",
     "output_type": "stream",
     "text": [
      "3.3333333333333335\n"
     ]
    }
   ],
   "source": [
    "x = 10\n",
    "x /= 3  # Equivalent to x = x / 2\n",
    "print(x)  "
   ]
  },
  {
   "cell_type": "code",
   "execution_count": 50,
   "id": "6559ea5d-9b54-4fb9-a516-d8c8ae435887",
   "metadata": {},
   "outputs": [
    {
     "name": "stdout",
     "output_type": "stream",
     "text": [
      "1\n"
     ]
    }
   ],
   "source": [
    "x = 10\n",
    "x %= 3  # Equivalent to x = x % 3\n",
    "print(x)  "
   ]
  },
  {
   "cell_type": "code",
   "execution_count": 51,
   "id": "989d75e8-6aac-47b9-99b7-33bb94bb5eda",
   "metadata": {},
   "outputs": [
    {
     "name": "stdout",
     "output_type": "stream",
     "text": [
      "2\n"
     ]
    }
   ],
   "source": [
    "number = 17\n",
    "divisor = 5\n",
    "number %= divisor  # Equivalent to number = number % divisor\n",
    "print(number)  "
   ]
  },
  {
   "cell_type": "code",
   "execution_count": 52,
   "id": "912cf877-3cd5-446c-a09c-5be5cf9eadf0",
   "metadata": {},
   "outputs": [
    {
     "name": "stdout",
     "output_type": "stream",
     "text": [
      "5\n"
     ]
    }
   ],
   "source": [
    "digit = 12345\n",
    "last_digit = digit % 10  # Equivalent to last_digit = digit % 10\n",
    "print(last_digit)  "
   ]
  },
  {
   "cell_type": "code",
   "execution_count": null,
   "id": "b5aab8fc-8f60-4a42-8dcc-7357e0712a62",
   "metadata": {},
   "outputs": [],
   "source": [
    "number = 100\n",
    "if number % 4 == 0:\n",
    "    print(number, \"is divisible by 4\")"
   ]
  }
 ],
 "metadata": {
  "kernelspec": {
   "display_name": "Python 3 (ipykernel)",
   "language": "python",
   "name": "python3"
  },
  "language_info": {
   "codemirror_mode": {
    "name": "ipython",
    "version": 3
   },
   "file_extension": ".py",
   "mimetype": "text/x-python",
   "name": "python",
   "nbconvert_exporter": "python",
   "pygments_lexer": "ipython3",
   "version": "3.13.0"
  }
 },
 "nbformat": 4,
 "nbformat_minor": 5
}
